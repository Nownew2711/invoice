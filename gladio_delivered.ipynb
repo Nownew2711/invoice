{
 "cells": [
  {
   "cell_type": "code",
   "execution_count": 1,
   "metadata": {},
   "outputs": [
    {
     "name": "stderr",
     "output_type": "stream",
     "text": [
      "/usr/lib/python3/dist-packages/requests/__init__.py:87: RequestsDependencyWarning: urllib3 (2.2.2) or chardet (4.0.0) doesn't match a supported version!\n",
      "  warnings.warn(\"urllib3 ({}) or chardet ({}) doesn't match a supported \"\n"
     ]
    },
    {
     "name": "stdout",
     "output_type": "stream",
     "text": [
      "Running on local URL:  http://127.0.0.1:7860\n",
      "\n",
      "To create a public link, set `share=True` in `launch()`.\n"
     ]
    },
    {
     "data": {
      "text/html": [
       "<div><iframe src=\"http://127.0.0.1:7860/\" width=\"100%\" height=\"500\" allow=\"autoplay; camera; microphone; clipboard-read; clipboard-write;\" frameborder=\"0\" allowfullscreen></iframe></div>"
      ],
      "text/plain": [
       "<IPython.core.display.HTML object>"
      ]
     },
     "metadata": {},
     "output_type": "display_data"
    },
    {
     "data": {
      "text/plain": []
     },
     "execution_count": 1,
     "metadata": {},
     "output_type": "execute_result"
    }
   ],
   "source": [
    "import gradio as gr\n",
    "from pdf2image import convert_from_path\n",
    "import pytesseract\n",
    "import pandas as pd\n",
    "import re\n",
    "import logging\n",
    "\n",
    "def process_pdf(file):\n",
    "    try:\n",
    "        # Check if the file is a PDF\n",
    "        if not file.name.lower().endswith('.pdf'):\n",
    "            logging.warning(\"Uploaded file is not a PDF.\")\n",
    "            return \"Error: Uploaded file is not a PDF. Please upload a PDF file.\", None\n",
    "        \n",
    "        images = convert_from_path(file.name)\n",
    "        full_text = \"\"\n",
    "        for i, img in enumerate(images):\n",
    "            text = pytesseract.image_to_string(img)\n",
    "            logging.debug(f\"Text extracted from image {i+1}: {text[:100]}...\")\n",
    "            full_text += text + \"\\n\"\n",
    "        \n",
    "        if not full_text.strip():\n",
    "            logging.error(\"No text could be extracted from the PDF.\")\n",
    "            return \"Error: Unable to extract text. The PDF might be blank or incorrectly formatted.\", None\n",
    "        \n",
    "        required_keywords = ['invoice', 'order no', 'invoice date', 'supplier name', 'warehouse id']\n",
    "        if not any(keyword in full_text.lower() for keyword in required_keywords):\n",
    "            return \"Error: The uploaded PDF does not contain necessary fields like 'Invoice', 'Order No', etc. Please upload a correct invoice.\", None\n",
    "        \n",
    "        csv_data = save_to_csv(full_text)\n",
    "        csv_path = \"output.csv\"\n",
    "        with open(csv_path, \"w\") as f:\n",
    "            f.write(csv_data)\n",
    "        \n",
    "        return \"Processing Complete\", csv_path  # Return the file path\n",
    "    except Exception as e:\n",
    "        return f\"Error: An unexpected error occurred: {str(e)}\", None\n",
    "\n",
    "def extract_fields(text):\n",
    "    invoice_no = re.search(r'Invoice No:\\s*([A-Z0-9-]+)', text)\n",
    "    order_no = re.search(r'HM Order No:\\s*(\\d+)', text)\n",
    "    invoice_date = re.search(r'Invoice Date:\\s*([\\d-]+)', text)\n",
    "    supplier_name = re.search(r'Supplier Name:\\s*([A-Z\\s]+)', text)\n",
    "    warehouse_id = re.search(r'\\bINW\\d{3}\\b', text)\n",
    "    \n",
    "    description_of_goods = None\n",
    "    if warehouse_id:\n",
    "        warehouse_line_start = text.find(warehouse_id.group(0))\n",
    "        description_lines = []\n",
    "        lines = text[warehouse_line_start:].split('\\n')\n",
    "        for line in lines:\n",
    "            if \"Container No:\" in line:\n",
    "                break\n",
    "            description_lines.append(line.strip())\n",
    "        description = ' '.join(description_lines).replace(' Cartons', '')\n",
    "        words = description.split()\n",
    "        filtered_words = [\n",
    "            word for word in words\n",
    "            if not re.match(r'^\\d+(\\.\\d+)?$', word) and word.lower() not in ['usd', 'pieces'] and '=' not in word and word != warehouse_id.group(0)\n",
    "        ]\n",
    "        description_of_goods = ' '.join(filtered_words)\n",
    "\n",
    "    return {\n",
    "        'Invoice No': invoice_no.group(1) if invoice_no else None,\n",
    "        'HM Order No': order_no.group(1) if order_no else None,\n",
    "        'Invoice Date': invoice_date.group(1) if invoice_date else None,\n",
    "        'Supplier Name': supplier_name.group(1).strip() if supplier_name else None,\n",
    "        'Warehouse ID': warehouse_id.group(0) if warehouse_id else None,\n",
    "        'Description of Goods': description_of_goods\n",
    "    }\n",
    "\n",
    "def save_to_csv(full_text):\n",
    "    invoice_texts = full_text.split('INVOICE')\n",
    "    data = []\n",
    "\n",
    "    for i in range(1, len(invoice_texts)):\n",
    "        invoice_text = \"INVOICE\" + invoice_texts[i]\n",
    "        fields = extract_fields(invoice_text)\n",
    "        if fields['Invoice No']:\n",
    "            data.append(fields)\n",
    "\n",
    "    df_invoices = pd.DataFrame(data)\n",
    "\n",
    "    # Function to fix hanging words and capitalize text\n",
    "    def fix_description(description):\n",
    "        words = description.split()\n",
    "        fixed_words = []\n",
    "        for i in range(len(words) - 1):\n",
    "            if len(words[i + 1]) <= 2:\n",
    "                fixed_words.append(words[i] + words[i + 1])\n",
    "            else:\n",
    "                if len(words[i]) > 2:\n",
    "                    fixed_words.append(words[i])\n",
    "        if len(words[-1]) > 1:\n",
    "            fixed_words.append(words[-1])\n",
    "\n",
    "        return \" \".join(fixed_words).upper()\n",
    "\n",
    "    df_invoices['Description of Goods'] = df_invoices['Description of Goods'].apply(fix_description)\n",
    "\n",
    "    csv_data = df_invoices.to_csv(index=False)\n",
    "    return csv_data\n",
    "\n",
    "iface = gr.Interface(\n",
    "    fn=process_pdf,\n",
    "    inputs=gr.File(file_types=['.pdf']),\n",
    "    outputs=[gr.Textbox(), gr.File(label=\"Download CSV\")]\n",
    ")\n",
    "\n",
    "iface.launch()\n"
   ]
  }
 ],
 "metadata": {
  "kernelspec": {
   "display_name": "Python 3",
   "language": "python",
   "name": "python3"
  },
  "language_info": {
   "codemirror_mode": {
    "name": "ipython",
    "version": 3
   },
   "file_extension": ".py",
   "mimetype": "text/x-python",
   "name": "python",
   "nbconvert_exporter": "python",
   "pygments_lexer": "ipython3",
   "version": "3.10.12"
  },
  "orig_nbformat": 4
 },
 "nbformat": 4,
 "nbformat_minor": 2
}
